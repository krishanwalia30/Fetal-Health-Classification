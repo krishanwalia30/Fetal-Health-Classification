{
 "cells": [
  {
   "cell_type": "code",
   "execution_count": 1,
   "metadata": {},
   "outputs": [
    {
     "data": {
      "text/plain": [
       "'d:\\\\Machine_Learning\\\\Fetal-Health-Classification'"
      ]
     },
     "execution_count": 1,
     "metadata": {},
     "output_type": "execute_result"
    }
   ],
   "source": [
    "import os\n",
    "os.chdir(\"../\")\n",
    "%pwd"
   ]
  },
  {
   "cell_type": "code",
   "execution_count": 2,
   "metadata": {},
   "outputs": [],
   "source": [
    "from dataclasses import dataclass\n",
    "from pathlib import Path\n",
    "\n",
    "@dataclass(frozen=True)\n",
    "class ModelTrainerConfig:\n",
    "    root_dir: Path\n",
    "    model_path: Path\n",
    "    train_path: Path "
   ]
  },
  {
   "cell_type": "code",
   "execution_count": 3,
   "metadata": {},
   "outputs": [],
   "source": [
    "from FetalHealthC.constants import *\n",
    "from FetalHealthC.utils.common import read_yaml, create_directories"
   ]
  },
  {
   "cell_type": "code",
   "execution_count": 4,
   "metadata": {},
   "outputs": [],
   "source": [
    "class ConfigurationManager:\n",
    "    def __init__(\n",
    "            self,\n",
    "            config_file_path = CONFIG_FILE_PATH,\n",
    "            params_file_path = PARAMS_FILE_PATH\n",
    "            ):\n",
    "        self.config = read_yaml(config_file_path)\n",
    "        self.params = read_yaml(params_file_path)\n",
    "\n",
    "        create_directories([self.config.artifacts_root])\n",
    "\n",
    "    def get_model_trainer_config(self)->ModelTrainerConfig:\n",
    "        config = self.config.model_trainer \n",
    "\n",
    "        create_directories([config.root_dir])\n",
    "\n",
    "        model_trainer_config = ModelTrainerConfig(\n",
    "            root_dir = config.root_dir,\n",
    "            model_path = config.model_path,\n",
    "            train_path = config.train_path\n",
    "        )\n",
    "        \n",
    "        return model_trainer_config"
   ]
  },
  {
   "cell_type": "code",
   "execution_count": 11,
   "metadata": {},
   "outputs": [],
   "source": [
    "from sklearn.svm import SVC\n",
    "import pandas as pd\n",
    "from FetalHealthC.logging import logger\n",
    "\n",
    "from FetalHealthC.utils.common import save_object\n",
    "\n",
    "class ModelTrainer:\n",
    "    def __init__(\n",
    "            self,\n",
    "            config: ModelTrainerConfig\n",
    "            ):\n",
    "        self.config = config\n",
    "    \n",
    "    def initiate_model_training(self):\n",
    "        # Fetching the training data\n",
    "        data = pd.read_csv(self.config.train_path)\n",
    "        logger.info(\"Training Dataset has been fetched.\")\n",
    "\n",
    "        # Splitting the data \n",
    "        x_train = data.drop(columns=['fetal_health'], axis=1)\n",
    "        y_train = data['fetal_health']\n",
    "        logger.info(\"Training Dataset has been splitted.\")\n",
    "\n",
    "        # Training the model\n",
    "        svc_model = SVC(C=80,degree=40)\n",
    "        svc_model.fit(x_train, y_train)\n",
    "        logger.info(\"Model has been trained.\")\n",
    "        \n",
    "        # Saving the model\n",
    "        save_object(Path(self.config.model_path), svc_model)\n",
    "        logger.info(\"Model has been saved.\")\n"
   ]
  },
  {
   "cell_type": "code",
   "execution_count": 13,
   "metadata": {},
   "outputs": [
    {
     "name": "stdout",
     "output_type": "stream",
     "text": [
      "[2024-01-13 14:48:28,759: INFO: common: yaml file config\\config.yaml loaded successfully]\n",
      "[2024-01-13 14:48:28,759: INFO: common: yaml file params.yaml loaded successfully]\n",
      "[2024-01-13 14:48:28,769: INFO: common: created directory at: artifacts]\n",
      "[2024-01-13 14:48:28,773: INFO: common: created directory at: artifacts/model_trainer]\n",
      "[2024-01-13 14:48:28,805: INFO: 92992970: Training Dataset has been fetched.]\n",
      "[2024-01-13 14:48:28,809: INFO: 92992970: Training Dataset has been splitted.]\n"
     ]
    },
    {
     "name": "stdout",
     "output_type": "stream",
     "text": [
      "[2024-01-13 14:48:28,925: INFO: 92992970: Model has been trained.]\n",
      "[2024-01-13 14:48:28,925: INFO: 92992970: Model has been saved.]\n"
     ]
    }
   ],
   "source": [
    "try:\n",
    "    config = ConfigurationManager()\n",
    "    model_trainer_config = config.get_model_trainer_config()\n",
    "    model_trainer = ModelTrainer(model_trainer_config)\n",
    "    model_trainer.initiate_model_training()\n",
    "except Exception as e:\n",
    "    raise e\n"
   ]
  },
  {
   "cell_type": "code",
   "execution_count": null,
   "metadata": {},
   "outputs": [],
   "source": []
  }
 ],
 "metadata": {
  "kernelspec": {
   "display_name": "FHC",
   "language": "python",
   "name": "python3"
  },
  "language_info": {
   "codemirror_mode": {
    "name": "ipython",
    "version": 3
   },
   "file_extension": ".py",
   "mimetype": "text/x-python",
   "name": "python",
   "nbconvert_exporter": "python",
   "pygments_lexer": "ipython3",
   "version": "3.10.0"
  }
 },
 "nbformat": 4,
 "nbformat_minor": 2
}
