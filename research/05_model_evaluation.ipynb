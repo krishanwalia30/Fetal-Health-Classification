{
 "cells": [
  {
   "cell_type": "code",
   "execution_count": 1,
   "metadata": {},
   "outputs": [
    {
     "data": {
      "text/plain": [
       "'d:\\\\Machine_Learning\\\\Fetal-Health-Classification'"
      ]
     },
     "execution_count": 1,
     "metadata": {},
     "output_type": "execute_result"
    }
   ],
   "source": [
    "import os\n",
    "os.chdir(\"../\")\n",
    "%pwd"
   ]
  },
  {
   "cell_type": "code",
   "execution_count": 2,
   "metadata": {},
   "outputs": [],
   "source": [
    "from dataclasses import dataclass\n",
    "from pathlib import Path\n",
    "\n",
    "@dataclass(frozen=True)\n",
    "class ModelEvaluationConfig:\n",
    "  root_dir: Path\n",
    "  model_path: Path\n",
    "  test_path: Path\n",
    "  metrics_file_path: Path"
   ]
  },
  {
   "cell_type": "code",
   "execution_count": 3,
   "metadata": {},
   "outputs": [],
   "source": [
    "from FetalHealthC.constants import *\n",
    "from FetalHealthC.utils.common import read_yaml, create_directories"
   ]
  },
  {
   "cell_type": "code",
   "execution_count": 7,
   "metadata": {},
   "outputs": [],
   "source": [
    "class ConfigurationManager:\n",
    "    def __init__(\n",
    "            self,\n",
    "            config_file_path = CONFIG_FILE_PATH,\n",
    "            params_file_path = PARAMS_FILE_PATH\n",
    "            ):\n",
    "        self.config = read_yaml(config_file_path)\n",
    "        self.params = read_yaml(params_file_path)\n",
    "\n",
    "        create_directories([self.config.artifacts_root])\n",
    "\n",
    "    def get_model_evaluation_config(self)->ModelEvaluationConfig:\n",
    "        config = self.config.model_evaluation\n",
    "\n",
    "        create_directories([config.root_dir])\n",
    "\n",
    "        model_evaluation_config = ModelEvaluationConfig(\n",
    "            root_dir = config.root_dir,\n",
    "            model_path = config.model_path,\n",
    "            test_path= config.test_path,\n",
    "            metrics_file_path = config.metrics_file_path\n",
    "        )\n",
    "        \n",
    "        return model_evaluation_config"
   ]
  },
  {
   "cell_type": "code",
   "execution_count": 8,
   "metadata": {},
   "outputs": [],
   "source": [
    "import pandas as pd\n",
    "from sklearn.metrics import accuracy_score, confusion_matrix\n",
    "from FetalHealthC.utils.common import load_object \n",
    "from FetalHealthC.logging import logger\n",
    "import yaml\n",
    " \n",
    "class ModelEvaluation:\n",
    "    def __init__(self, model_evaluation_config: ModelEvaluationConfig):\n",
    "        self.config = model_evaluation_config\n",
    "\n",
    "    def initiate_model_evaluation(self):\n",
    "        # Fetching the test dataset\n",
    "        data = pd.read_csv(self.config.test_path)\n",
    "        logger.info(\"Test Dataset has been loaded successfully\")\n",
    "\n",
    "        # Spliting the data into x, y\n",
    "        LABEL_COLUMN = 'fetal_health'\n",
    "        x = data.drop(columns=LABEL_COLUMN)\n",
    "        y = data[LABEL_COLUMN]\n",
    "        logger.info(\"Data has been splitted successfully\")\n",
    "\n",
    "        # Fetching the model\n",
    "        model = load_object(self.config.model_path)\n",
    "        logger.info(\"Model has been loaded successfully\")\n",
    "\n",
    "        # Evaluating the model\n",
    "        y_pred = model.predict(x)\n",
    "        accuracy = accuracy_score(y, y_pred)\n",
    "        cm = confusion_matrix(y, y_pred)\n",
    "        logger.info(f\"Accuracy score for model {accuracy}\")\n",
    "        logger.info(f\"Confusion matrix for model {cm}\")\n",
    "        logger.info(\"Model evaluation has been completed successfully\")\n",
    "\n",
    "        # Writing the accuracy in the metrics yaml file\n",
    "        content = dict()\n",
    "        content['accuracy'] = str(accuracy)\n",
    "        content['confusion_matrix'] = str(cm)\n",
    "\n",
    "        with open(self.config.metrics_file_path, 'w') as f:\n",
    "            yaml.dump(content,f)\n",
    "        logger.info(f\"{self.config.metrics_file_path} file is saved.\")        "
   ]
  },
  {
   "cell_type": "code",
   "execution_count": 9,
   "metadata": {},
   "outputs": [
    {
     "name": "stdout",
     "output_type": "stream",
     "text": [
      "[2024-01-13 17:04:13,819: INFO: common: yaml file config\\config.yaml loaded successfully]\n",
      "[2024-01-13 17:04:13,821: INFO: common: yaml file params.yaml loaded successfully]\n",
      "[2024-01-13 17:04:13,822: INFO: common: created directory at: artifacts]\n",
      "[2024-01-13 17:04:13,824: INFO: common: created directory at: artifacts/model_evaluation]\n",
      "[2024-01-13 17:04:13,843: INFO: 1707977176: Test Dataset has been loaded successfully]\n",
      "[2024-01-13 17:04:13,845: INFO: 1707977176: Data has been splitted successfully]\n",
      "[2024-01-13 17:04:13,848: INFO: 1707977176: Model has been loaded successfully]\n",
      "[2024-01-13 17:04:13,872: INFO: 1707977176: Accuracy score for model 0.9342723004694836]\n",
      "[2024-01-13 17:04:13,873: INFO: 1707977176: Confusion matrix for model [[317  14   2]\n",
      " [  7  55   2]\n",
      " [  2   1  26]]]\n",
      "[2024-01-13 17:04:13,874: INFO: 1707977176: Model evaluation has been completed successfully]\n",
      "[2024-01-13 17:04:13,879: INFO: 1707977176: metrics.yaml file is saved.]\n"
     ]
    }
   ],
   "source": [
    "try:\n",
    "    config = ConfigurationManager()\n",
    "    model_evaluation_config = config.get_model_evaluation_config()\n",
    "    model_evaluation = ModelEvaluation(model_evaluation_config)\n",
    "    model_evaluation.initiate_model_evaluation()\n",
    "\n",
    "except Exception as e:\n",
    "    raise e"
   ]
  },
  {
   "cell_type": "code",
   "execution_count": null,
   "metadata": {},
   "outputs": [],
   "source": []
  }
 ],
 "metadata": {
  "kernelspec": {
   "display_name": "FHC",
   "language": "python",
   "name": "python3"
  },
  "language_info": {
   "codemirror_mode": {
    "name": "ipython",
    "version": 3
   },
   "file_extension": ".py",
   "mimetype": "text/x-python",
   "name": "python",
   "nbconvert_exporter": "python",
   "pygments_lexer": "ipython3",
   "version": "3.10.0"
  }
 },
 "nbformat": 4,
 "nbformat_minor": 2
}
